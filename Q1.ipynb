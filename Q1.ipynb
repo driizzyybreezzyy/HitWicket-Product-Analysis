{
  "cells": [
    {
      "cell_type": "markdown",
      "metadata": {
        "id": "view-in-github",
        "colab_type": "text"
      },
      "source": [
        "<a href=\"https://colab.research.google.com/github/driizzyybreezzyy/HitWicket-Product-Analysis/blob/main/Q1.ipynb\" target=\"_parent\"><img src=\"https://colab.research.google.com/assets/colab-badge.svg\" alt=\"Open In Colab\"/></a>"
      ]
    },
    {
      "cell_type": "code",
      "source": [
        "import pandas as pd\n",
        "\n",
        "# Create the DataFrame\n",
        "data = {\n",
        "    'Class': [4, 4, 5, 1, 1, 2, 5, 2],\n",
        "    'Gender': ['Female', 'Male', 'Male', 'Female', 'Male', 'Female', 'Female', 'Male'],\n",
        "    'Values': [10, 3, 1, 5, 7, 2, 5, 10]\n",
        "}\n",
        "\n",
        "df = pd.DataFrame(data)\n",
        "\n",
        "# Display the DataFrame\n",
        "print(df)\n"
      ],
      "metadata": {
        "colab": {
          "base_uri": "https://localhost:8080/"
        },
        "id": "ohP2Nw8lznnc",
        "outputId": "85cde0ab-390f-4d0f-97d1-377f60225c6d"
      },
      "execution_count": 1,
      "outputs": [
        {
          "output_type": "stream",
          "name": "stdout",
          "text": [
            "   Class  Gender  Values\n",
            "0      4  Female      10\n",
            "1      4    Male       3\n",
            "2      5    Male       1\n",
            "3      1  Female       5\n",
            "4      1    Male       7\n",
            "5      2  Female       2\n",
            "6      5  Female       5\n",
            "7      2    Male      10\n"
          ]
        }
      ]
    }
  ],
  "metadata": {
    "colab": {
      "name": "Welcome to Colaboratory",
      "provenance": [],
      "include_colab_link": true
    },
    "kernelspec": {
      "display_name": "Python 3",
      "name": "python3"
    }
  },
  "nbformat": 4,
  "nbformat_minor": 0
}